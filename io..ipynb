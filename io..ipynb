{
 "cells": [
  {
   "cell_type": "code",
   "execution_count": 4,
   "metadata": {},
   "outputs": [],
   "source": [
    "name = \"Anshuman Singh\"\n",
    "city = 'BaCHHRAWAN'"
   ]
  },
  {
   "cell_type": "code",
   "execution_count": 5,
   "metadata": {},
   "outputs": [
    {
     "name": "stdout",
     "output_type": "stream",
     "text": [
      "informatiomn about me\n",
      "Anshuman Singh\n",
      "BaCHHRAWAN\n"
     ]
    }
   ],
   "source": [
    "print(\"informatiomn about me\")\n",
    "print(name)\n",
    "print(city)"
   ]
  },
  {
   "cell_type": "code",
   "execution_count": 7,
   "metadata": {},
   "outputs": [
    {
     "name": "stdout",
     "output_type": "stream",
     "text": [
      "i am Anshuman Singh and i live in BaCHHRAWAN\n"
     ]
    }
   ],
   "source": [
    "print(\"i am\",name,'and i live in', city)"
   ]
  },
  {
   "cell_type": "code",
   "execution_count": 8,
   "metadata": {},
   "outputs": [
    {
     "name": "stdout",
     "output_type": "stream",
     "text": [
      "i am Anshuman Singh and i live BaCHHRAWAN\n"
     ]
    }
   ],
   "source": [
    "print(f\"i am {name} and i live {city}\")"
   ]
  },
  {
   "cell_type": "code",
   "execution_count": 10,
   "metadata": {},
   "outputs": [],
   "source": [
    "n1 = \"anshuman\"\n",
    "c1 = 'bachhrwan'\n",
    "n2, c2= \"aman\",'raebali'\n",
    "n3, c3 =\"ramesh\",'delhi'"
   ]
  },
  {
   "cell_type": "code",
   "execution_count": 22,
   "metadata": {},
   "outputs": [
    {
     "name": "stdout",
     "output_type": "stream",
     "text": [
      "1.  anshuman bachhrwan\n",
      "2.   aman    raebali\n",
      "3.ramesh     delhi\n",
      "4.anshuman bachhrwan\n"
     ]
    }
   ],
   "source": [
    "print(f'1.{n1:>10} {c1}')\n",
    "print(f'2.{n2:^10} {c2}')\n",
    "print(f'3.{n3:<10} {c3}')\n",
    "print(f'4.{n1} {c1}')"
   ]
  },
  {
   "cell_type": "code",
   "execution_count": 23,
   "metadata": {},
   "outputs": [
    {
     "name": "stdout",
     "output_type": "stream",
     "text": [
      "anshuman aman ramesh\n"
     ]
    }
   ],
   "source": [
    "print(n1,n2,n3)"
   ]
  },
  {
   "cell_type": "code",
   "execution_count": 30,
   "metadata": {},
   "outputs": [
    {
     "name": "stdout",
     "output_type": "stream",
     "text": [
      "anshuman\taman\tramesh\n"
     ]
    }
   ],
   "source": [
    "print(n1,n2,n3,sep='\\t')"
   ]
  },
  {
   "cell_type": "code",
   "execution_count": null,
   "metadata": {},
   "outputs": [],
   "source": []
  }
 ],
 "metadata": {
  "kernelspec": {
   "display_name": "Python 3",
   "language": "python",
   "name": "python3"
  },
  "language_info": {
   "codemirror_mode": {
    "name": "ipython",
    "version": 3
   },
   "file_extension": ".py",
   "mimetype": "text/x-python",
   "name": "python",
   "nbconvert_exporter": "python",
   "pygments_lexer": "ipython3",
   "version": "3.10.8"
  },
  "orig_nbformat": 4
 },
 "nbformat": 4,
 "nbformat_minor": 2
}
